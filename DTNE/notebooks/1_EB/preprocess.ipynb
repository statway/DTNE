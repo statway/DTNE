{
 "cells": [
  {
   "cell_type": "code",
   "execution_count": 1,
   "id": "33cbd7b9-ba2b-4c3c-84f9-33c39f198ffa",
   "metadata": {
    "tags": []
   },
   "outputs": [
    {
     "name": "stdout",
     "output_type": "stream",
     "text": [
      "D:\\0_dtne_demo\\1_EB\n"
     ]
    }
   ],
   "source": [
    "import os\n",
    "import scprep\n",
    "download_path = 'D:\\\\0_dtne_demo\\\\1_EB'\n",
    "print(download_path)"
   ]
  },
  {
   "cell_type": "code",
   "execution_count": 2,
   "id": "6c02a1fa-a64c-4912-8edb-0ae3f3df0348",
   "metadata": {
    "tags": []
   },
   "outputs": [],
   "source": [
    "# https://data.mendeley.com/datasets/v6n743h5ng/.\n",
    "# if not os.path.isdir(os.path.join(download_path, \"scRNAseq\", \"T0_1A\")):\n",
    "#     # need to download the data\n",
    "#     scprep.io.download.download_and_extract_zip(\n",
    "#         \"https://md-datasets-public-files-prod.s3.eu-west-1.amazonaws.com/\"\n",
    "#         \"5739738f-d4dd-49f7-b8d1-5841abdbeb1e\",\n",
    "#         download_path)"
   ]
  },
  {
   "cell_type": "code",
   "execution_count": 3,
   "id": "92a34301-a2c6-42d1-a382-22256387397f",
   "metadata": {
    "tags": []
   },
   "outputs": [
    {
     "data": {
      "text/html": [
       "<div>\n",
       "<style scoped>\n",
       "    .dataframe tbody tr th:only-of-type {\n",
       "        vertical-align: middle;\n",
       "    }\n",
       "\n",
       "    .dataframe tbody tr th {\n",
       "        vertical-align: top;\n",
       "    }\n",
       "\n",
       "    .dataframe thead th {\n",
       "        text-align: right;\n",
       "    }\n",
       "</style>\n",
       "<table border=\"1\" class=\"dataframe\">\n",
       "  <thead>\n",
       "    <tr style=\"text-align: right;\">\n",
       "      <th></th>\n",
       "      <th>RP11-34P13.3 (ENSG00000243485)</th>\n",
       "      <th>FAM138A (ENSG00000237613)</th>\n",
       "      <th>OR4F5 (ENSG00000186092)</th>\n",
       "      <th>RP11-34P13.7 (ENSG00000238009)</th>\n",
       "      <th>RP11-34P13.8 (ENSG00000239945)</th>\n",
       "      <th>RP11-34P13.14 (ENSG00000239906)</th>\n",
       "      <th>RP11-34P13.9 (ENSG00000241599)</th>\n",
       "      <th>FO538757.3 (ENSG00000279928)</th>\n",
       "      <th>FO538757.2 (ENSG00000279457)</th>\n",
       "      <th>AP006222.2 (ENSG00000228463)</th>\n",
       "      <th>...</th>\n",
       "      <th>AC007325.2 (ENSG00000277196)</th>\n",
       "      <th>BX072566.1 (ENSG00000277630)</th>\n",
       "      <th>AL354822.1 (ENSG00000278384)</th>\n",
       "      <th>AC023491.2 (ENSG00000278633)</th>\n",
       "      <th>AC004556.1 (ENSG00000276345)</th>\n",
       "      <th>AC233755.2 (ENSG00000277856)</th>\n",
       "      <th>AC233755.1 (ENSG00000275063)</th>\n",
       "      <th>AC240274.1 (ENSG00000271254)</th>\n",
       "      <th>AC213203.1 (ENSG00000277475)</th>\n",
       "      <th>FAM231B (ENSG00000268674)</th>\n",
       "    </tr>\n",
       "    <tr>\n",
       "      <th>0</th>\n",
       "      <th></th>\n",
       "      <th></th>\n",
       "      <th></th>\n",
       "      <th></th>\n",
       "      <th></th>\n",
       "      <th></th>\n",
       "      <th></th>\n",
       "      <th></th>\n",
       "      <th></th>\n",
       "      <th></th>\n",
       "      <th></th>\n",
       "      <th></th>\n",
       "      <th></th>\n",
       "      <th></th>\n",
       "      <th></th>\n",
       "      <th></th>\n",
       "      <th></th>\n",
       "      <th></th>\n",
       "      <th></th>\n",
       "      <th></th>\n",
       "      <th></th>\n",
       "    </tr>\n",
       "  </thead>\n",
       "  <tbody>\n",
       "    <tr>\n",
       "      <th>AAACATACCAGAGG-1</th>\n",
       "      <td>0.0</td>\n",
       "      <td>0.0</td>\n",
       "      <td>0.0</td>\n",
       "      <td>0.0</td>\n",
       "      <td>0.0</td>\n",
       "      <td>0.0</td>\n",
       "      <td>0.0</td>\n",
       "      <td>0.0</td>\n",
       "      <td>1.0</td>\n",
       "      <td>0.0</td>\n",
       "      <td>...</td>\n",
       "      <td>0.0</td>\n",
       "      <td>0.0</td>\n",
       "      <td>0.0</td>\n",
       "      <td>0.0</td>\n",
       "      <td>0.0</td>\n",
       "      <td>0.0</td>\n",
       "      <td>0.0</td>\n",
       "      <td>0.0</td>\n",
       "      <td>0.0</td>\n",
       "      <td>0.0</td>\n",
       "    </tr>\n",
       "    <tr>\n",
       "      <th>AAACATTGAAAGCA-1</th>\n",
       "      <td>0.0</td>\n",
       "      <td>0.0</td>\n",
       "      <td>0.0</td>\n",
       "      <td>0.0</td>\n",
       "      <td>0.0</td>\n",
       "      <td>0.0</td>\n",
       "      <td>0.0</td>\n",
       "      <td>0.0</td>\n",
       "      <td>0.0</td>\n",
       "      <td>0.0</td>\n",
       "      <td>...</td>\n",
       "      <td>0.0</td>\n",
       "      <td>0.0</td>\n",
       "      <td>0.0</td>\n",
       "      <td>0.0</td>\n",
       "      <td>0.0</td>\n",
       "      <td>0.0</td>\n",
       "      <td>0.0</td>\n",
       "      <td>0.0</td>\n",
       "      <td>0.0</td>\n",
       "      <td>0.0</td>\n",
       "    </tr>\n",
       "    <tr>\n",
       "      <th>AAACATTGAAGTGA-1</th>\n",
       "      <td>0.0</td>\n",
       "      <td>0.0</td>\n",
       "      <td>0.0</td>\n",
       "      <td>0.0</td>\n",
       "      <td>0.0</td>\n",
       "      <td>0.0</td>\n",
       "      <td>0.0</td>\n",
       "      <td>0.0</td>\n",
       "      <td>0.0</td>\n",
       "      <td>0.0</td>\n",
       "      <td>...</td>\n",
       "      <td>0.0</td>\n",
       "      <td>0.0</td>\n",
       "      <td>0.0</td>\n",
       "      <td>0.0</td>\n",
       "      <td>0.0</td>\n",
       "      <td>0.0</td>\n",
       "      <td>0.0</td>\n",
       "      <td>0.0</td>\n",
       "      <td>0.0</td>\n",
       "      <td>0.0</td>\n",
       "    </tr>\n",
       "    <tr>\n",
       "      <th>AAACATTGGAGGTG-1</th>\n",
       "      <td>0.0</td>\n",
       "      <td>0.0</td>\n",
       "      <td>0.0</td>\n",
       "      <td>0.0</td>\n",
       "      <td>0.0</td>\n",
       "      <td>0.0</td>\n",
       "      <td>0.0</td>\n",
       "      <td>0.0</td>\n",
       "      <td>0.0</td>\n",
       "      <td>0.0</td>\n",
       "      <td>...</td>\n",
       "      <td>0.0</td>\n",
       "      <td>0.0</td>\n",
       "      <td>0.0</td>\n",
       "      <td>0.0</td>\n",
       "      <td>0.0</td>\n",
       "      <td>0.0</td>\n",
       "      <td>0.0</td>\n",
       "      <td>0.0</td>\n",
       "      <td>0.0</td>\n",
       "      <td>0.0</td>\n",
       "    </tr>\n",
       "    <tr>\n",
       "      <th>AAACATTGGTTTCT-1</th>\n",
       "      <td>0.0</td>\n",
       "      <td>0.0</td>\n",
       "      <td>0.0</td>\n",
       "      <td>0.0</td>\n",
       "      <td>0.0</td>\n",
       "      <td>0.0</td>\n",
       "      <td>0.0</td>\n",
       "      <td>0.0</td>\n",
       "      <td>0.0</td>\n",
       "      <td>0.0</td>\n",
       "      <td>...</td>\n",
       "      <td>0.0</td>\n",
       "      <td>0.0</td>\n",
       "      <td>0.0</td>\n",
       "      <td>0.0</td>\n",
       "      <td>0.0</td>\n",
       "      <td>0.0</td>\n",
       "      <td>0.0</td>\n",
       "      <td>0.0</td>\n",
       "      <td>0.0</td>\n",
       "      <td>0.0</td>\n",
       "    </tr>\n",
       "  </tbody>\n",
       "</table>\n",
       "<p>5 rows × 33694 columns</p>\n",
       "</div>"
      ],
      "text/plain": [
       "                  RP11-34P13.3 (ENSG00000243485)  FAM138A (ENSG00000237613)  \\\n",
       "0                                                                             \n",
       "AAACATACCAGAGG-1                             0.0                        0.0   \n",
       "AAACATTGAAAGCA-1                             0.0                        0.0   \n",
       "AAACATTGAAGTGA-1                             0.0                        0.0   \n",
       "AAACATTGGAGGTG-1                             0.0                        0.0   \n",
       "AAACATTGGTTTCT-1                             0.0                        0.0   \n",
       "\n",
       "                  OR4F5 (ENSG00000186092)  RP11-34P13.7 (ENSG00000238009)  \\\n",
       "0                                                                           \n",
       "AAACATACCAGAGG-1                      0.0                             0.0   \n",
       "AAACATTGAAAGCA-1                      0.0                             0.0   \n",
       "AAACATTGAAGTGA-1                      0.0                             0.0   \n",
       "AAACATTGGAGGTG-1                      0.0                             0.0   \n",
       "AAACATTGGTTTCT-1                      0.0                             0.0   \n",
       "\n",
       "                  RP11-34P13.8 (ENSG00000239945)  \\\n",
       "0                                                  \n",
       "AAACATACCAGAGG-1                             0.0   \n",
       "AAACATTGAAAGCA-1                             0.0   \n",
       "AAACATTGAAGTGA-1                             0.0   \n",
       "AAACATTGGAGGTG-1                             0.0   \n",
       "AAACATTGGTTTCT-1                             0.0   \n",
       "\n",
       "                  RP11-34P13.14 (ENSG00000239906)  \\\n",
       "0                                                   \n",
       "AAACATACCAGAGG-1                              0.0   \n",
       "AAACATTGAAAGCA-1                              0.0   \n",
       "AAACATTGAAGTGA-1                              0.0   \n",
       "AAACATTGGAGGTG-1                              0.0   \n",
       "AAACATTGGTTTCT-1                              0.0   \n",
       "\n",
       "                  RP11-34P13.9 (ENSG00000241599)  \\\n",
       "0                                                  \n",
       "AAACATACCAGAGG-1                             0.0   \n",
       "AAACATTGAAAGCA-1                             0.0   \n",
       "AAACATTGAAGTGA-1                             0.0   \n",
       "AAACATTGGAGGTG-1                             0.0   \n",
       "AAACATTGGTTTCT-1                             0.0   \n",
       "\n",
       "                  FO538757.3 (ENSG00000279928)  FO538757.2 (ENSG00000279457)  \\\n",
       "0                                                                              \n",
       "AAACATACCAGAGG-1                           0.0                           1.0   \n",
       "AAACATTGAAAGCA-1                           0.0                           0.0   \n",
       "AAACATTGAAGTGA-1                           0.0                           0.0   \n",
       "AAACATTGGAGGTG-1                           0.0                           0.0   \n",
       "AAACATTGGTTTCT-1                           0.0                           0.0   \n",
       "\n",
       "                  AP006222.2 (ENSG00000228463)  ...  \\\n",
       "0                                               ...   \n",
       "AAACATACCAGAGG-1                           0.0  ...   \n",
       "AAACATTGAAAGCA-1                           0.0  ...   \n",
       "AAACATTGAAGTGA-1                           0.0  ...   \n",
       "AAACATTGGAGGTG-1                           0.0  ...   \n",
       "AAACATTGGTTTCT-1                           0.0  ...   \n",
       "\n",
       "                  AC007325.2 (ENSG00000277196)  BX072566.1 (ENSG00000277630)  \\\n",
       "0                                                                              \n",
       "AAACATACCAGAGG-1                           0.0                           0.0   \n",
       "AAACATTGAAAGCA-1                           0.0                           0.0   \n",
       "AAACATTGAAGTGA-1                           0.0                           0.0   \n",
       "AAACATTGGAGGTG-1                           0.0                           0.0   \n",
       "AAACATTGGTTTCT-1                           0.0                           0.0   \n",
       "\n",
       "                  AL354822.1 (ENSG00000278384)  AC023491.2 (ENSG00000278633)  \\\n",
       "0                                                                              \n",
       "AAACATACCAGAGG-1                           0.0                           0.0   \n",
       "AAACATTGAAAGCA-1                           0.0                           0.0   \n",
       "AAACATTGAAGTGA-1                           0.0                           0.0   \n",
       "AAACATTGGAGGTG-1                           0.0                           0.0   \n",
       "AAACATTGGTTTCT-1                           0.0                           0.0   \n",
       "\n",
       "                  AC004556.1 (ENSG00000276345)  AC233755.2 (ENSG00000277856)  \\\n",
       "0                                                                              \n",
       "AAACATACCAGAGG-1                           0.0                           0.0   \n",
       "AAACATTGAAAGCA-1                           0.0                           0.0   \n",
       "AAACATTGAAGTGA-1                           0.0                           0.0   \n",
       "AAACATTGGAGGTG-1                           0.0                           0.0   \n",
       "AAACATTGGTTTCT-1                           0.0                           0.0   \n",
       "\n",
       "                  AC233755.1 (ENSG00000275063)  AC240274.1 (ENSG00000271254)  \\\n",
       "0                                                                              \n",
       "AAACATACCAGAGG-1                           0.0                           0.0   \n",
       "AAACATTGAAAGCA-1                           0.0                           0.0   \n",
       "AAACATTGAAGTGA-1                           0.0                           0.0   \n",
       "AAACATTGGAGGTG-1                           0.0                           0.0   \n",
       "AAACATTGGTTTCT-1                           0.0                           0.0   \n",
       "\n",
       "                  AC213203.1 (ENSG00000277475)  FAM231B (ENSG00000268674)  \n",
       "0                                                                          \n",
       "AAACATACCAGAGG-1                           0.0                        0.0  \n",
       "AAACATTGAAAGCA-1                           0.0                        0.0  \n",
       "AAACATTGAAGTGA-1                           0.0                        0.0  \n",
       "AAACATTGGAGGTG-1                           0.0                        0.0  \n",
       "AAACATTGGTTTCT-1                           0.0                        0.0  \n",
       "\n",
       "[5 rows x 33694 columns]"
      ]
     },
     "execution_count": 3,
     "metadata": {},
     "output_type": "execute_result"
    }
   ],
   "source": [
    "sparse=True\n",
    "T1 = scprep.io.load_10X(os.path.join(download_path, \"scRNAseq\", \"T0_1A\"), sparse=sparse, gene_labels='both')\n",
    "T2 = scprep.io.load_10X(os.path.join(download_path, \"scRNAseq\", \"T2_3B\"), sparse=sparse, gene_labels='both')\n",
    "T3 = scprep.io.load_10X(os.path.join(download_path, \"scRNAseq\", \"T4_5C\"), sparse=sparse, gene_labels='both')\n",
    "T4 = scprep.io.load_10X(os.path.join(download_path, \"scRNAseq\", \"T6_7D\"), sparse=sparse, gene_labels='both')\n",
    "T5 = scprep.io.load_10X(os.path.join(download_path, \"scRNAseq\", \"T8_9E\"), sparse=sparse, gene_labels='both')\n",
    "T1.head()"
   ]
  },
  {
   "cell_type": "code",
   "execution_count": 4,
   "id": "2780d395-6a14-425d-be3d-dca13789d0a2",
   "metadata": {
    "tags": []
   },
   "outputs": [
    {
     "data": {
      "image/png": "[encoded data removed]",
      "text/plain": [
       "<Figure size 640x480 with 1 Axes>"
      ]
     },
     "metadata": {},
     "output_type": "display_data"
    },
    {
     "data": {
      "text/plain": [
       "<Axes: xlabel='Library size', ylabel='Number of cells'>"
      ]
     },
     "execution_count": 4,
     "metadata": {},
     "output_type": "execute_result"
    }
   ],
   "source": [
    "scprep.plot.plot_library_size(T1, percentile=20)"
   ]
  },
  {
   "cell_type": "code",
   "execution_count": 5,
   "id": "3483ff92-b7c6-4910-a9c4-44fe2046ea75",
   "metadata": {
    "tags": []
   },
   "outputs": [],
   "source": [
    "filtered_batches = []\n",
    "for batch in [T1, T2, T3, T4, T5]:\n",
    "    batch = scprep.filter.filter_library_size(batch, percentile=20, keep_cells='above')\n",
    "    batch = scprep.filter.filter_library_size(batch, percentile=75, keep_cells='below')\n",
    "    filtered_batches.append(batch)\n",
    "del T1, T2, T3, T4, T5 # removes objects from memory"
   ]
  },
  {
   "cell_type": "code",
   "execution_count": 6,
   "id": "118d4156-22ac-4db9-9b1c-2ea60e1ab8da",
   "metadata": {
    "tags": []
   },
   "outputs": [
    {
     "data": {
      "text/html": [
       "<div>\n",
       "<style scoped>\n",
       "    .dataframe tbody tr th:only-of-type {\n",
       "        vertical-align: middle;\n",
       "    }\n",
       "\n",
       "    .dataframe tbody tr th {\n",
       "        vertical-align: top;\n",
       "    }\n",
       "\n",
       "    .dataframe thead th {\n",
       "        text-align: right;\n",
       "    }\n",
       "</style>\n",
       "<table border=\"1\" class=\"dataframe\">\n",
       "  <thead>\n",
       "    <tr style=\"text-align: right;\">\n",
       "      <th></th>\n",
       "      <th>A1BG (ENSG00000121410)</th>\n",
       "      <th>A1BG-AS1 (ENSG00000268895)</th>\n",
       "      <th>A1CF (ENSG00000148584)</th>\n",
       "      <th>A2M (ENSG00000175899)</th>\n",
       "      <th>A2M-AS1 (ENSG00000245105)</th>\n",
       "      <th>A2ML1 (ENSG00000166535)</th>\n",
       "      <th>A2ML1-AS1 (ENSG00000256661)</th>\n",
       "      <th>A2ML1-AS2 (ENSG00000256904)</th>\n",
       "      <th>A3GALT2 (ENSG00000184389)</th>\n",
       "      <th>A4GALT (ENSG00000128274)</th>\n",
       "      <th>...</th>\n",
       "      <th>ZXDC (ENSG00000070476)</th>\n",
       "      <th>ZYG11A (ENSG00000203995)</th>\n",
       "      <th>ZYG11B (ENSG00000162378)</th>\n",
       "      <th>ZYX (ENSG00000159840)</th>\n",
       "      <th>ZZEF1 (ENSG00000074755)</th>\n",
       "      <th>ZZZ3 (ENSG00000036549)</th>\n",
       "      <th>bP-21264C1.2 (ENSG00000278932)</th>\n",
       "      <th>bP-2171C21.3 (ENSG00000279501)</th>\n",
       "      <th>bP-2189O9.3 (ENSG00000279579)</th>\n",
       "      <th>hsa-mir-1253 (ENSG00000272920)</th>\n",
       "    </tr>\n",
       "  </thead>\n",
       "  <tbody>\n",
       "    <tr>\n",
       "      <th>AAACATTGAAAGCA-1_Day 00-03</th>\n",
       "      <td>0.0</td>\n",
       "      <td>0.0</td>\n",
       "      <td>0.0</td>\n",
       "      <td>0.0</td>\n",
       "      <td>0.0</td>\n",
       "      <td>0.0</td>\n",
       "      <td>0.0</td>\n",
       "      <td>0.0</td>\n",
       "      <td>0.0</td>\n",
       "      <td>0.0</td>\n",
       "      <td>...</td>\n",
       "      <td>0.0</td>\n",
       "      <td>0.0</td>\n",
       "      <td>0.0</td>\n",
       "      <td>0.0</td>\n",
       "      <td>0.0</td>\n",
       "      <td>0.0</td>\n",
       "      <td>0.0</td>\n",
       "      <td>0.0</td>\n",
       "      <td>0.0</td>\n",
       "      <td>0.0</td>\n",
       "    </tr>\n",
       "    <tr>\n",
       "      <th>AAACCGTGCAGAAA-1_Day 00-03</th>\n",
       "      <td>0.0</td>\n",
       "      <td>0.0</td>\n",
       "      <td>0.0</td>\n",
       "      <td>0.0</td>\n",
       "      <td>0.0</td>\n",
       "      <td>0.0</td>\n",
       "      <td>0.0</td>\n",
       "      <td>0.0</td>\n",
       "      <td>0.0</td>\n",
       "      <td>0.0</td>\n",
       "      <td>...</td>\n",
       "      <td>0.0</td>\n",
       "      <td>0.0</td>\n",
       "      <td>0.0</td>\n",
       "      <td>0.0</td>\n",
       "      <td>0.0</td>\n",
       "      <td>0.0</td>\n",
       "      <td>0.0</td>\n",
       "      <td>0.0</td>\n",
       "      <td>0.0</td>\n",
       "      <td>0.0</td>\n",
       "    </tr>\n",
       "    <tr>\n",
       "      <th>AAACCGTGGAAGGC-1_Day 00-03</th>\n",
       "      <td>0.0</td>\n",
       "      <td>0.0</td>\n",
       "      <td>0.0</td>\n",
       "      <td>0.0</td>\n",
       "      <td>0.0</td>\n",
       "      <td>0.0</td>\n",
       "      <td>0.0</td>\n",
       "      <td>0.0</td>\n",
       "      <td>0.0</td>\n",
       "      <td>0.0</td>\n",
       "      <td>...</td>\n",
       "      <td>0.0</td>\n",
       "      <td>0.0</td>\n",
       "      <td>0.0</td>\n",
       "      <td>0.0</td>\n",
       "      <td>0.0</td>\n",
       "      <td>0.0</td>\n",
       "      <td>0.0</td>\n",
       "      <td>0.0</td>\n",
       "      <td>0.0</td>\n",
       "      <td>0.0</td>\n",
       "    </tr>\n",
       "    <tr>\n",
       "      <th>AAACGCACCGGTAT-1_Day 00-03</th>\n",
       "      <td>0.0</td>\n",
       "      <td>0.0</td>\n",
       "      <td>0.0</td>\n",
       "      <td>0.0</td>\n",
       "      <td>0.0</td>\n",
       "      <td>0.0</td>\n",
       "      <td>0.0</td>\n",
       "      <td>0.0</td>\n",
       "      <td>0.0</td>\n",
       "      <td>0.0</td>\n",
       "      <td>...</td>\n",
       "      <td>0.0</td>\n",
       "      <td>0.0</td>\n",
       "      <td>0.0</td>\n",
       "      <td>0.0</td>\n",
       "      <td>0.0</td>\n",
       "      <td>0.0</td>\n",
       "      <td>0.0</td>\n",
       "      <td>0.0</td>\n",
       "      <td>0.0</td>\n",
       "      <td>0.0</td>\n",
       "    </tr>\n",
       "    <tr>\n",
       "      <th>AAACGCACCTATTC-1_Day 00-03</th>\n",
       "      <td>0.0</td>\n",
       "      <td>0.0</td>\n",
       "      <td>0.0</td>\n",
       "      <td>0.0</td>\n",
       "      <td>0.0</td>\n",
       "      <td>0.0</td>\n",
       "      <td>0.0</td>\n",
       "      <td>0.0</td>\n",
       "      <td>0.0</td>\n",
       "      <td>0.0</td>\n",
       "      <td>...</td>\n",
       "      <td>0.0</td>\n",
       "      <td>0.0</td>\n",
       "      <td>0.0</td>\n",
       "      <td>1.0</td>\n",
       "      <td>0.0</td>\n",
       "      <td>0.0</td>\n",
       "      <td>0.0</td>\n",
       "      <td>0.0</td>\n",
       "      <td>0.0</td>\n",
       "      <td>0.0</td>\n",
       "    </tr>\n",
       "  </tbody>\n",
       "</table>\n",
       "<p>5 rows × 33694 columns</p>\n",
       "</div>"
      ],
      "text/plain": [
       "                            A1BG (ENSG00000121410)  \\\n",
       "AAACATTGAAAGCA-1_Day 00-03                     0.0   \n",
       "AAACCGTGCAGAAA-1_Day 00-03                     0.0   \n",
       "AAACCGTGGAAGGC-1_Day 00-03                     0.0   \n",
       "AAACGCACCGGTAT-1_Day 00-03                     0.0   \n",
       "AAACGCACCTATTC-1_Day 00-03                     0.0   \n",
       "\n",
       "                            A1BG-AS1 (ENSG00000268895)  \\\n",
       "AAACATTGAAAGCA-1_Day 00-03                         0.0   \n",
       "AAACCGTGCAGAAA-1_Day 00-03                         0.0   \n",
       "AAACCGTGGAAGGC-1_Day 00-03                         0.0   \n",
       "AAACGCACCGGTAT-1_Day 00-03                         0.0   \n",
       "AAACGCACCTATTC-1_Day 00-03                         0.0   \n",
       "\n",
       "                            A1CF (ENSG00000148584)  A2M (ENSG00000175899)  \\\n",
       "AAACATTGAAAGCA-1_Day 00-03                     0.0                    0.0   \n",
       "AAACCGTGCAGAAA-1_Day 00-03                     0.0                    0.0   \n",
       "AAACCGTGGAAGGC-1_Day 00-03                     0.0                    0.0   \n",
       "AAACGCACCGGTAT-1_Day 00-03                     0.0                    0.0   \n",
       "AAACGCACCTATTC-1_Day 00-03                     0.0                    0.0   \n",
       "\n",
       "                            A2M-AS1 (ENSG00000245105)  \\\n",
       "AAACATTGAAAGCA-1_Day 00-03                        0.0   \n",
       "AAACCGTGCAGAAA-1_Day 00-03                        0.0   \n",
       "AAACCGTGGAAGGC-1_Day 00-03                        0.0   \n",
       "AAACGCACCGGTAT-1_Day 00-03                        0.0   \n",
       "AAACGCACCTATTC-1_Day 00-03                        0.0   \n",
       "\n",
       "                            A2ML1 (ENSG00000166535)  \\\n",
       "AAACATTGAAAGCA-1_Day 00-03                      0.0   \n",
       "AAACCGTGCAGAAA-1_Day 00-03                      0.0   \n",
       "AAACCGTGGAAGGC-1_Day 00-03                      0.0   \n",
       "AAACGCACCGGTAT-1_Day 00-03                      0.0   \n",
       "AAACGCACCTATTC-1_Day 00-03                      0.0   \n",
       "\n",
       "                            A2ML1-AS1 (ENSG00000256661)  \\\n",
       "AAACATTGAAAGCA-1_Day 00-03                          0.0   \n",
       "AAACCGTGCAGAAA-1_Day 00-03                          0.0   \n",
       "AAACCGTGGAAGGC-1_Day 00-03                          0.0   \n",
       "AAACGCACCGGTAT-1_Day 00-03                          0.0   \n",
       "AAACGCACCTATTC-1_Day 00-03                          0.0   \n",
       "\n",
       "                            A2ML1-AS2 (ENSG00000256904)  \\\n",
       "AAACATTGAAAGCA-1_Day 00-03                          0.0   \n",
       "AAACCGTGCAGAAA-1_Day 00-03                          0.0   \n",
       "AAACCGTGGAAGGC-1_Day 00-03                          0.0   \n",
       "AAACGCACCGGTAT-1_Day 00-03                          0.0   \n",
       "AAACGCACCTATTC-1_Day 00-03                          0.0   \n",
       "\n",
       "                            A3GALT2 (ENSG00000184389)  \\\n",
       "AAACATTGAAAGCA-1_Day 00-03                        0.0   \n",
       "AAACCGTGCAGAAA-1_Day 00-03                        0.0   \n",
       "AAACCGTGGAAGGC-1_Day 00-03                        0.0   \n",
       "AAACGCACCGGTAT-1_Day 00-03                        0.0   \n",
       "AAACGCACCTATTC-1_Day 00-03                        0.0   \n",
       "\n",
       "                            A4GALT (ENSG00000128274)  ...  \\\n",
       "AAACATTGAAAGCA-1_Day 00-03                       0.0  ...   \n",
       "AAACCGTGCAGAAA-1_Day 00-03                       0.0  ...   \n",
       "AAACCGTGGAAGGC-1_Day 00-03                       0.0  ...   \n",
       "AAACGCACCGGTAT-1_Day 00-03                       0.0  ...   \n",
       "AAACGCACCTATTC-1_Day 00-03                       0.0  ...   \n",
       "\n",
       "                            ZXDC (ENSG00000070476)  ZYG11A (ENSG00000203995)  \\\n",
       "AAACATTGAAAGCA-1_Day 00-03                     0.0                       0.0   \n",
       "AAACCGTGCAGAAA-1_Day 00-03                     0.0                       0.0   \n",
       "AAACCGTGGAAGGC-1_Day 00-03                     0.0                       0.0   \n",
       "AAACGCACCGGTAT-1_Day 00-03                     0.0                       0.0   \n",
       "AAACGCACCTATTC-1_Day 00-03                     0.0                       0.0   \n",
       "\n",
       "                            ZYG11B (ENSG00000162378)  ZYX (ENSG00000159840)  \\\n",
       "AAACATTGAAAGCA-1_Day 00-03                       0.0                    0.0   \n",
       "AAACCGTGCAGAAA-1_Day 00-03                       0.0                    0.0   \n",
       "AAACCGTGGAAGGC-1_Day 00-03                       0.0                    0.0   \n",
       "AAACGCACCGGTAT-1_Day 00-03                       0.0                    0.0   \n",
       "AAACGCACCTATTC-1_Day 00-03                       0.0                    1.0   \n",
       "\n",
       "                            ZZEF1 (ENSG00000074755)  ZZZ3 (ENSG00000036549)  \\\n",
       "AAACATTGAAAGCA-1_Day 00-03                      0.0                     0.0   \n",
       "AAACCGTGCAGAAA-1_Day 00-03                      0.0                     0.0   \n",
       "AAACCGTGGAAGGC-1_Day 00-03                      0.0                     0.0   \n",
       "AAACGCACCGGTAT-1_Day 00-03                      0.0                     0.0   \n",
       "AAACGCACCTATTC-1_Day 00-03                      0.0                     0.0   \n",
       "\n",
       "                            bP-21264C1.2 (ENSG00000278932)  \\\n",
       "AAACATTGAAAGCA-1_Day 00-03                             0.0   \n",
       "AAACCGTGCAGAAA-1_Day 00-03                             0.0   \n",
       "AAACCGTGGAAGGC-1_Day 00-03                             0.0   \n",
       "AAACGCACCGGTAT-1_Day 00-03                             0.0   \n",
       "AAACGCACCTATTC-1_Day 00-03                             0.0   \n",
       "\n",
       "                            bP-2171C21.3 (ENSG00000279501)  \\\n",
       "AAACATTGAAAGCA-1_Day 00-03                             0.0   \n",
       "AAACCGTGCAGAAA-1_Day 00-03                             0.0   \n",
       "AAACCGTGGAAGGC-1_Day 00-03                             0.0   \n",
       "AAACGCACCGGTAT-1_Day 00-03                             0.0   \n",
       "AAACGCACCTATTC-1_Day 00-03                             0.0   \n",
       "\n",
       "                            bP-2189O9.3 (ENSG00000279579)  \\\n",
       "AAACATTGAAAGCA-1_Day 00-03                            0.0   \n",
       "AAACCGTGCAGAAA-1_Day 00-03                            0.0   \n",
       "AAACCGTGGAAGGC-1_Day 00-03                            0.0   \n",
       "AAACGCACCGGTAT-1_Day 00-03                            0.0   \n",
       "AAACGCACCTATTC-1_Day 00-03                            0.0   \n",
       "\n",
       "                            hsa-mir-1253 (ENSG00000272920)  \n",
       "AAACATTGAAAGCA-1_Day 00-03                             0.0  \n",
       "AAACCGTGCAGAAA-1_Day 00-03                             0.0  \n",
       "AAACCGTGGAAGGC-1_Day 00-03                             0.0  \n",
       "AAACGCACCGGTAT-1_Day 00-03                             0.0  \n",
       "AAACGCACCTATTC-1_Day 00-03                             0.0  \n",
       "\n",
       "[5 rows x 33694 columns]"
      ]
     },
     "execution_count": 6,
     "metadata": {},
     "output_type": "execute_result"
    }
   ],
   "source": [
    "EBT_counts, sample_labels = scprep.utils.combine_batches(\n",
    "    filtered_batches, \n",
    "    [\"Day 00-03\", \"Day 06-09\", \"Day 12-15\", \"Day 18-21\", \"Day 24-27\"],\n",
    "    append_to_cell_names=True\n",
    ")\n",
    "del filtered_batches # removes objects from memory\n",
    "EBT_counts.head()"
   ]
  },
  {
   "cell_type": "code",
   "execution_count": 7,
   "id": "a7c0cd59-bc25-4e4c-863d-c0e5743810e9",
   "metadata": {
    "tags": []
   },
   "outputs": [],
   "source": [
    "EBT_counts = scprep.filter.filter_rare_genes(EBT_counts, min_cells=10)"
   ]
  },
  {
   "cell_type": "code",
   "execution_count": 8,
   "id": "12fb911e-6e5d-49f7-95e7-62da40a972e7",
   "metadata": {
    "tags": []
   },
   "outputs": [],
   "source": [
    "EBT_counts = scprep.normalize.library_size_normalize(EBT_counts)"
   ]
  },
  {
   "cell_type": "code",
   "execution_count": 9,
   "id": "0a7b896f-ac34-4f2e-9c34-5b34d0d0e69d",
   "metadata": {
    "tags": []
   },
   "outputs": [
    {
     "data": {
      "image/png": "[encoded data removed]",
      "text/plain": [
       "<Figure size 640x480 with 1 Axes>"
      ]
     },
     "metadata": {},
     "output_type": "display_data"
    },
    {
     "data": {
      "text/plain": [
       "<Axes: xlabel='Gene expression', ylabel='Number of cells'>"
      ]
     },
     "execution_count": 9,
     "metadata": {},
     "output_type": "execute_result"
    }
   ],
   "source": [
    "mito_genes = scprep.select.get_gene_set(EBT_counts, starts_with=\"MT-\") # Get all mitochondrial genes. There are 14, FYI.\n",
    "scprep.plot.plot_gene_set_expression(EBT_counts, genes=mito_genes, percentile=90)"
   ]
  },
  {
   "cell_type": "code",
   "execution_count": 10,
   "id": "025903f9-8900-40cb-8455-611b62508111",
   "metadata": {
    "tags": []
   },
   "outputs": [],
   "source": [
    "EBT_counts, sample_labels = scprep.filter.filter_gene_set_expression(\n",
    "    EBT_counts, sample_labels, genes=mito_genes, \n",
    "    percentile=90, keep_cells='below')"
   ]
  },
  {
   "cell_type": "code",
   "execution_count": 11,
   "id": "51fb3be4-0820-4f91-95c3-79bc2dbf5a66",
   "metadata": {
    "tags": []
   },
   "outputs": [],
   "source": [
    "EBT_counts = scprep.transform.sqrt(EBT_counts)"
   ]
  },
  {
   "cell_type": "code",
   "execution_count": 12,
   "id": "9b609e61-b504-4550-bfb2-c95734205b7c",
   "metadata": {
    "tags": []
   },
   "outputs": [
    {
     "data": {
      "text/plain": [
       "(16821, 17845)"
      ]
     },
     "execution_count": 12,
     "metadata": {},
     "output_type": "execute_result"
    }
   ],
   "source": [
    "EBT_counts_sqrt = EBT_counts.to_numpy()\n",
    "EBT_counts_sqrt.shape"
   ]
  },
  {
   "cell_type": "code",
   "execution_count": 13,
   "id": "42f28d93-1f70-4297-92e1-f7027824fe3d",
   "metadata": {
    "tags": []
   },
   "outputs": [],
   "source": [
    "features = EBT_counts.columns.to_list()"
   ]
  },
  {
   "cell_type": "code",
   "execution_count": 14,
   "id": "43317010-130e-4c61-9c94-37811b99b9d4",
   "metadata": {
    "tags": []
   },
   "outputs": [],
   "source": [
    "cell_names = EBT_counts.index.to_list()"
   ]
  },
  {
   "cell_type": "code",
   "execution_count": 15,
   "id": "c9baff7b-205e-4bd6-86e0-e50221f8f83c",
   "metadata": {
    "tags": []
   },
   "outputs": [],
   "source": [
    "import scanpy as sc\n",
    "import pandas as pd"
   ]
  },
  {
   "cell_type": "code",
   "execution_count": 16,
   "id": "1871737e-53f3-447d-936e-ccf5158036f6",
   "metadata": {
    "tags": []
   },
   "outputs": [],
   "source": [
    "pd.DataFrame(features).to_csv('feature.csv')"
   ]
  },
  {
   "cell_type": "code",
   "execution_count": 17,
   "id": "298ea443-ee4f-4f69-a909-0321727f5336",
   "metadata": {
    "tags": []
   },
   "outputs": [],
   "source": [
    "pd.DataFrame(cell_names).to_csv('cell_names.csv')"
   ]
  },
  {
   "cell_type": "code",
   "execution_count": 18,
   "id": "62bed247-a651-4c2f-8a61-64ad87c0afe7",
   "metadata": {
    "tags": []
   },
   "outputs": [],
   "source": [
    "adata = sc.AnnData(X=EBT_counts_sqrt)"
   ]
  },
  {
   "cell_type": "code",
   "execution_count": 19,
   "id": "27f3a8a5-6458-41e4-a18d-24da8af39a70",
   "metadata": {
    "tags": []
   },
   "outputs": [],
   "source": [
    "adata.var_names = features\n",
    "adata.obs_names = cell_names"
   ]
  },
  {
   "cell_type": "code",
   "execution_count": 20,
   "id": "cecdaa42-ec83-4c55-ab4e-3e56098753de",
   "metadata": {
    "tags": []
   },
   "outputs": [],
   "source": [
    "import numpy as np\n",
    "import pandas as pd"
   ]
  },
  {
   "cell_type": "code",
   "execution_count": 21,
   "id": "47d3efab-a6cf-412f-ba49-fc57dc24be53",
   "metadata": {
    "tags": []
   },
   "outputs": [],
   "source": [
    "sample_labels = pd.read_csv('./sample_labels.csv',index_col=0,header=None,sep=\" \")\n",
    "cell_stages = {1: '00-03', 2: '06-09', 3: '12-15', 4: '18-21', 5: '24-27'}\n",
    "new_cell_stages={v:k for k,v in cell_stages.items()}\n",
    "cell_types  =  [new_cell_stages[i] for i in sample_labels.values.reshape(1,-1)[0]]"
   ]
  },
  {
   "cell_type": "code",
   "execution_count": 22,
   "id": "84835c1f-e9fe-40b4-8851-654a84d4588c",
   "metadata": {
    "tags": []
   },
   "outputs": [],
   "source": [
    "adata.obs[\"cell_type\"] = np.array(cell_types)"
   ]
  },
  {
   "cell_type": "code",
   "execution_count": 23,
   "id": "4b9e75af-c928-4789-a1b7-9a4235e879c1",
   "metadata": {
    "tags": []
   },
   "outputs": [
    {
     "data": {
      "text/plain": [
       "AnnData object with n_obs × n_vars = 16821 × 17845\n",
       "    obs: 'cell_type'"
      ]
     },
     "execution_count": 23,
     "metadata": {},
     "output_type": "execute_result"
    }
   ],
   "source": [
    "adata"
   ]
  },
  {
   "cell_type": "code",
   "execution_count": 24,
   "id": "3b7c2ad6-175d-4f3e-ba10-c78dcedf4064",
   "metadata": {
    "tags": []
   },
   "outputs": [],
   "source": [
    "adata.write('EBT_counts_sqrt.h5ad', compression=\"gzip\")"
   ]
  },
  {
   "cell_type": "code",
   "execution_count": null,
   "id": "e14ff747-3d46-43df-91e5-1740227ab8f8",
   "metadata": {},
   "outputs": [],
   "source": []
  }
 ],
 "metadata": {
  "kernelspec": {
   "display_name": "Python 3 (ipykernel)",
   "language": "python",
   "name": "python3"
  },
  "language_info": {
   "codemirror_mode": {
    "name": "ipython",
    "version": 3
   },
   "file_extension": ".py",
   "mimetype": "text/x-python",
   "name": "python",
   "nbconvert_exporter": "python",
   "pygments_lexer": "ipython3",
   "version": "3.9.18"
  }
 },
 "nbformat": 4,
 "nbformat_minor": 5
}
